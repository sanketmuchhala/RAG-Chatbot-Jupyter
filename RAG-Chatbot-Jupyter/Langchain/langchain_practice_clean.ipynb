### 1) Install dependencies

This cell installs the libraries used below. You can skip it if your environment already has them.
- `langchain`, `langchain-community`, `langchain-openai`: core SDK and providers
- `tiktoken`: tokenizer utilities
- `faiss-cpu`: fast vector index for RAG
- `pypdf`: to read PDFs (for RAG demo)
- `pandas`: tabular data utils
- `python-dotenv`: load `.env` secrets## LangChain Notebook Practice: A Human‑Friendly Guide

Welcome! This notebook is a hands-on, well-documented walkthrough to help you practice core LangChain concepts in a friendly, human-written style.

What you'll do:
- Understand the building blocks: models, prompts, chains, memory
- Create useful chains with `ChatPromptTemplate` and output parsers
- Try basic memory for multi-turn conversations
- Build a tiny Retrieval-Augmented Generation (RAG) demo

Prerequisites:
- Python 3.10+
- An OpenAI API key (optional but recommended). If not set, the notebook will fall back to a small local "toy model" so you can still practice the workflow.

Tips:
- Run cells top-to-bottom the first time
- If you change package versions, occasionally restart the kernel
- Skim the big-picture headings; then dive into the code cells and play!